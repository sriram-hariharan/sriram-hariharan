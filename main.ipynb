{
  "nbformat": 4,
  "nbformat_minor": 0,
  "metadata": {
    "colab": {
      "name": "sml_project.ipynb",
      "provenance": [],
      "collapsed_sections": []
    },
    "kernelspec": {
      "name": "python3",
      "display_name": "Python 3"
    },
    "language_info": {
      "name": "python"
    }
  },
  "cells": [
    {
      "cell_type": "code",
      "metadata": {
        "id": "13ASG9I6Kd2o"
      },
      "source": [
        "#import libraries\n",
        "import pandas as pd\n",
        "import numpy as np\n",
        "import matplotlib.pyplot as plt\n",
        "import math\n",
        "from __future__ import division\n",
        "import sys\n",
        "import nltk\n",
        "import sklearn\n",
        "%matplotlib inline\n",
        "np.random.seed(18) \n",
        "import warnings\n",
        "warnings.filterwarnings('ignore')"
      ],
      "execution_count": null,
      "outputs": []
    },
    {
      "cell_type": "code",
      "metadata": {
        "id": "ITP86hd0zJQH"
      },
      "source": [
        "import re\n",
        "import spacy\n",
        "import unicodedata\n",
        "import re\n",
        "from nltk.corpus import wordnet\n",
        "from nltk.corpus import stopwords\n",
        "import collections\n",
        "from nltk.tokenize.toktok import ToktokTokenizer\n",
        "from bs4 import BeautifulSoup\n",
        "from nltk.stem.wordnet import WordNetLemmatizer\n",
        "from sklearn.feature_extraction.text import TfidfVectorizer\n",
        "from sklearn.decomposition import LatentDirichletAllocation\n",
        "from sklearn.preprocessing import MultiLabelBinarizer\n",
        "from sklearn.linear_model import SGDClassifier\n",
        "from sklearn.multiclass import OneVsRestClassifier\n",
        "from sklearn.metrics import hamming_loss\n",
        "from sklearn.linear_model import LogisticRegression\n",
        "from sklearn.ensemble import RandomForestClassifier\n",
        "from sklearn.naive_bayes import MultinomialNB\n",
        "from sklearn.svm import LinearSVC\n",
        "from sklearn.linear_model import Perceptron\n",
        "from sklearn.linear_model import PassiveAggressiveClassifier\n",
        "from sklearn.model_selection import train_test_split\n",
        "from sklearn.metrics import accuracy_score,f1_score,recall_score,precision_score,mean_absolute_error,mean_absolute_error,r2_score,log_loss\n",
        "from sklearn.tree import DecisionTreeRegressor"
      ],
      "execution_count": null,
      "outputs": []
    },
    {
      "cell_type": "code",
      "source": [
        " from sklearn.model_selection import cross_val_score,RandomizedSearchCV,GridSearchCV\n",
        " from sklearn.tree import DecisionTreeClassifier"
      ],
      "metadata": {
        "id": "iq_DjBWvhN_B"
      },
      "execution_count": null,
      "outputs": []
    },
    {
      "cell_type": "code",
      "metadata": {
        "id": "ju9AZ5PiNaw5"
      },
      "source": [
        " #library to import files\n",
        "from google.colab import files"
      ],
      "execution_count": null,
      "outputs": []
    },
    {
      "cell_type": "code",
      "metadata": {
        "colab": {
          "base_uri": "https://localhost:8080/"
        },
        "id": "QqIDL2HTVIng",
        "outputId": "42808cf9-25f0-43e3-ac60-1779d9f7e7be"
      },
      "source": [
        "from google.colab import drive\n",
        "drive.mount('/content/drive')"
      ],
      "execution_count": null,
      "outputs": [
        {
          "output_type": "stream",
          "name": "stdout",
          "text": [
            "Mounted at /content/drive\n"
          ]
        }
      ]
    },
    {
      "cell_type": "code",
      "metadata": {
        "id": "ZHyPlfJqOQgn"
      },
      "source": [
        "data=pd.read_csv(\"/content/drive/MyDrive/Tidy_data.csv\")"
      ],
      "execution_count": null,
      "outputs": []
    },
    {
      "cell_type": "code",
      "metadata": {
        "id": "XbmBWP_FUaJg"
      },
      "source": [
        "data = data.set_index('Unnamed: 0')\n",
        "data = data.rename(index={'Unnamed: 0':'Id'})"
      ],
      "execution_count": null,
      "outputs": []
    },
    {
      "cell_type": "code",
      "metadata": {
        "id": "9nbed_gmZEDQ"
      },
      "source": [
        "new_data=pd.merge(data[(data['Q_Score']>5)] ,data[(data['A_Score']>=5)],how=\"inner\")"
      ],
      "execution_count": null,
      "outputs": []
    },
    {
      "cell_type": "code",
      "metadata": {
        "colab": {
          "base_uri": "https://localhost:8080/"
        },
        "id": "aIlO6yC6lrZz",
        "outputId": "d1701c98-ef54-470a-e55c-ea2f27c9d033"
      },
      "source": [
        "new_data.shape"
      ],
      "execution_count": null,
      "outputs": [
        {
          "output_type": "execute_result",
          "data": {
            "text/plain": [
              "(19475, 8)"
            ]
          },
          "metadata": {},
          "execution_count": 9
        }
      ]
    },
    {
      "cell_type": "markdown",
      "metadata": {
        "id": "n0EDk-rXl0mB"
      },
      "source": [
        "Cleaning Data\n"
      ]
    },
    {
      "cell_type": "code",
      "metadata": {
        "id": "kAehtCpNcM9H",
        "colab": {
          "base_uri": "https://localhost:8080/",
          "height": 354
        },
        "outputId": "98a7ebd3-737c-4ad0-d7c0-59b56bd27820"
      },
      "source": [
        "plt.figure(figsize=(5, 5))\n",
        "new_data.isnull().mean(axis=0).plot.barh()\n",
        "plt.title(\"Ratio of missing values per columns\")"
      ],
      "execution_count": null,
      "outputs": [
        {
          "output_type": "execute_result",
          "data": {
            "text/plain": [
              "Text(0.5, 1.0, 'Ratio of missing values per columns')"
            ]
          },
          "metadata": {},
          "execution_count": 10
        },
        {
          "output_type": "display_data",
          "data": {
            "image/png": "[encoded data removed]",
            "text/plain": [
              "<Figure size 360x360 with 1 Axes>"
            ]
          },
          "metadata": {
            "needs_background": "light"
          }
        }
      ]
    },
    {
      "cell_type": "code",
      "source": [
        "print('Dupplicate entries: {}'.format(new_data.duplicated().sum()))\n",
        "new_data.drop_duplicates(inplace = True)"
      ],
      "metadata": {
        "colab": {
          "base_uri": "https://localhost:8080/"
        },
        "id": "GHPvmDa1Lg6A",
        "outputId": "541d0376-4f62-47c5-c220-713fe6709549"
      },
      "execution_count": null,
      "outputs": [
        {
          "output_type": "stream",
          "name": "stdout",
          "text": [
            "Dupplicate entries: 0\n"
          ]
        }
      ]
    },
    {
      "cell_type": "code",
      "metadata": {
        "id": "hPzTRNf0mCNJ"
      },
      "source": [
        "new_data['Tag'] = new_data['Tag'].apply(lambda x: x.split())"
      ],
      "execution_count": null,
      "outputs": []
    },
    {
      "cell_type": "code",
      "metadata": {
        "colab": {
          "base_uri": "https://localhost:8080/",
          "height": 597
        },
        "id": "S7UHqHkRmcwj",
        "outputId": "76bacb33-938e-4c59-a1dc-d1f617bbcef0"
      },
      "source": [
        "new_data"
      ],
      "execution_count": null,
      "outputs": [
        {
          "output_type": "execute_result",
          "data": {
            "text/html": [
              "<div>\n",
              "<style scoped>\n",
              "    .dataframe tbody tr th:only-of-type {\n",
              "        vertical-align: middle;\n",
              "    }\n",
              "\n",
              "    .dataframe tbody tr th {\n",
              "        vertical-align: top;\n",
              "    }\n",
              "\n",
              "    .dataframe thead th {\n",
              "        text-align: right;\n",
              "    }\n",
              "</style>\n",
              "<table border=\"1\" class=\"dataframe\">\n",
              "  <thead>\n",
              "    <tr style=\"text-align: right;\">\n",
              "      <th></th>\n",
              "      <th>ParentId</th>\n",
              "      <th>Q_Score</th>\n",
              "      <th>Title</th>\n",
              "      <th>Question</th>\n",
              "      <th>Answer_Id</th>\n",
              "      <th>A_Score</th>\n",
              "      <th>Answer</th>\n",
              "      <th>Tag</th>\n",
              "    </tr>\n",
              "  </thead>\n",
              "  <tbody>\n",
              "    <tr>\n",
              "      <th>0</th>\n",
              "      <td>3567180</td>\n",
              "      <td>29</td>\n",
              "      <td>Increment Letters like numbers</td>\n",
              "      <td>I would like to write a function that takes in...</td>\n",
              "      <td>3567218</td>\n",
              "      <td>65</td>\n",
              "      <td>Character/string increment works in PHP (thoug...</td>\n",
              "      <td>[php]</td>\n",
              "    </tr>\n",
              "    <tr>\n",
              "      <th>1</th>\n",
              "      <td>1692500</td>\n",
              "      <td>11</td>\n",
              "      <td>Get height/width of image in Javascript (ideal...</td>\n",
              "      <td>Sorry if this has already been answered, but I...</td>\n",
              "      <td>1692507</td>\n",
              "      <td>15</td>\n",
              "      <td>If the image is not loaded, it won't have its'...</td>\n",
              "      <td>[javascript]</td>\n",
              "    </tr>\n",
              "    <tr>\n",
              "      <th>2</th>\n",
              "      <td>1571340</td>\n",
              "      <td>151</td>\n",
              "      <td>What is the \"assert\" function?</td>\n",
              "      <td>I've been studying OpenCV tutorials and came a...</td>\n",
              "      <td>1571644</td>\n",
              "      <td>75</td>\n",
              "      <td>The assert computer statement is analogous to ...</td>\n",
              "      <td>[c++,c,assert]</td>\n",
              "    </tr>\n",
              "    <tr>\n",
              "      <th>3</th>\n",
              "      <td>1571340</td>\n",
              "      <td>151</td>\n",
              "      <td>What is the \"assert\" function?</td>\n",
              "      <td>I've been studying OpenCV tutorials and came a...</td>\n",
              "      <td>1571360</td>\n",
              "      <td>178</td>\n",
              "      <td>assert will terminate the program (usually wit...</td>\n",
              "      <td>[c++,c,assert]</td>\n",
              "    </tr>\n",
              "    <tr>\n",
              "      <th>4</th>\n",
              "      <td>791390</td>\n",
              "      <td>36</td>\n",
              "      <td>More Elegant Exception Handling Than Multiple ...</td>\n",
              "      <td>Using C#, is there a better way to handle mult...</td>\n",
              "      <td>791401</td>\n",
              "      <td>9</td>\n",
              "      <td>Unfortunately, C# does not have user exception...</td>\n",
              "      <td>[c#,.net,exception,error-handling]</td>\n",
              "    </tr>\n",
              "    <tr>\n",
              "      <th>...</th>\n",
              "      <td>...</td>\n",
              "      <td>...</td>\n",
              "      <td>...</td>\n",
              "      <td>...</td>\n",
              "      <td>...</td>\n",
              "      <td>...</td>\n",
              "      <td>...</td>\n",
              "      <td>...</td>\n",
              "    </tr>\n",
              "    <tr>\n",
              "      <th>19470</th>\n",
              "      <td>3042220</td>\n",
              "      <td>9</td>\n",
              "      <td>How do I calculate the size of an entity store...</td>\n",
              "      <td>Is there an easy way to calculate the size of ...</td>\n",
              "      <td>3042250</td>\n",
              "      <td>13</td>\n",
              "      <td>App engine stores each entity as a protobuf.  ...</td>\n",
              "      <td>[google-app-engine]</td>\n",
              "    </tr>\n",
              "    <tr>\n",
              "      <th>19471</th>\n",
              "      <td>1300890</td>\n",
              "      <td>12</td>\n",
              "      <td>MD5 hash with salt for keeping password in DB ...</td>\n",
              "      <td>Could you please advise me some easy algorithm...</td>\n",
              "      <td>1300927</td>\n",
              "      <td>34</td>\n",
              "      <td>You can use the HMACMD5 class:\\nvar hmacMD5 = ...</td>\n",
              "      <td>[c#,.net,security,hash,md5]</td>\n",
              "    </tr>\n",
              "    <tr>\n",
              "      <th>19472</th>\n",
              "      <td>3047010</td>\n",
              "      <td>64</td>\n",
              "      <td>Best Redis library for Java</td>\n",
              "      <td>The official Redis homepage lists JDBC-Redis a...</td>\n",
              "      <td>3838731</td>\n",
              "      <td>9</td>\n",
              "      <td>Both Jedis and JRedis are being actively devel...</td>\n",
              "      <td>[java,redis]</td>\n",
              "    </tr>\n",
              "    <tr>\n",
              "      <th>19473</th>\n",
              "      <td>3047010</td>\n",
              "      <td>64</td>\n",
              "      <td>Best Redis library for Java</td>\n",
              "      <td>The official Redis homepage lists JDBC-Redis a...</td>\n",
              "      <td>4082125</td>\n",
              "      <td>6</td>\n",
              "      <td>An easier solution is to not worry about worki...</td>\n",
              "      <td>[java,redis]</td>\n",
              "    </tr>\n",
              "    <tr>\n",
              "      <th>19474</th>\n",
              "      <td>3047010</td>\n",
              "      <td>64</td>\n",
              "      <td>Best Redis library for Java</td>\n",
              "      <td>The official Redis homepage lists JDBC-Redis a...</td>\n",
              "      <td>3578968</td>\n",
              "      <td>64</td>\n",
              "      <td>You can use also Jedis, which is also in the o...</td>\n",
              "      <td>[java,redis]</td>\n",
              "    </tr>\n",
              "  </tbody>\n",
              "</table>\n",
              "<p>19475 rows × 8 columns</p>\n",
              "</div>"
            ],
            "text/plain": [
              "       ParentId  ...                                 Tag\n",
              "0       3567180  ...                               [php]\n",
              "1       1692500  ...                        [javascript]\n",
              "2       1571340  ...                      [c++,c,assert]\n",
              "3       1571340  ...                      [c++,c,assert]\n",
              "4        791390  ...  [c#,.net,exception,error-handling]\n",
              "...         ...  ...                                 ...\n",
              "19470   3042220  ...                 [google-app-engine]\n",
              "19471   1300890  ...         [c#,.net,security,hash,md5]\n",
              "19472   3047010  ...                        [java,redis]\n",
              "19473   3047010  ...                        [java,redis]\n",
              "19474   3047010  ...                        [java,redis]\n",
              "\n",
              "[19475 rows x 8 columns]"
            ]
          },
          "metadata": {},
          "execution_count": 13
        }
      ]
    },
    {
      "cell_type": "code",
      "metadata": {
        "id": "8g9r-ArumiIr"
      },
      "source": [
        "all_tags = [item for sublist in new_data['Tag'].values for item in sublist]"
      ],
      "execution_count": null,
      "outputs": []
    },
    {
      "cell_type": "code",
      "metadata": {
        "colab": {
          "base_uri": "https://localhost:8080/"
        },
        "id": "7diNs7xrmp-V",
        "outputId": "40f2f4dc-243e-41f9-a7ed-f16e26b48fe9"
      },
      "source": [
        "len(all_tags)"
      ],
      "execution_count": null,
      "outputs": [
        {
          "output_type": "execute_result",
          "data": {
            "text/plain": [
              "19475"
            ]
          },
          "metadata": {},
          "execution_count": 15
        }
      ]
    },
    {
      "cell_type": "code",
      "metadata": {
        "colab": {
          "base_uri": "https://localhost:8080/"
        },
        "id": "oblCZ1DjmtY7",
        "outputId": "fdf10fdb-4421-4f0a-8bb5-48e260cb513f"
      },
      "source": [
        "my_set = set(all_tags)\n",
        "unique_tags = list(my_set)\n",
        "len(unique_tags)"
      ],
      "execution_count": null,
      "outputs": [
        {
          "output_type": "execute_result",
          "data": {
            "text/plain": [
              "9656"
            ]
          },
          "metadata": {},
          "execution_count": 16
        }
      ]
    },
    {
      "cell_type": "code",
      "metadata": {
        "id": "QhU707d1mxjg"
      },
      "source": [
        "flat_list = [item for sublist in new_data['Tag'].values for item in sublist]\n",
        "keywords = nltk.FreqDist(flat_list)\n",
        "keywords = nltk.FreqDist(keywords)\n",
        "frequencies_words = keywords.most_common(100)\n",
        "tags_features = [word[0] for word in frequencies_words]"
      ],
      "execution_count": null,
      "outputs": []
    },
    {
      "cell_type": "code",
      "metadata": {
        "colab": {
          "base_uri": "https://localhost:8080/"
        },
        "id": "RvNIteMJnSds",
        "outputId": "c44c75ef-3c84-4564-bc2f-4918f62e47c3"
      },
      "source": [
        "len(keywords)"
      ],
      "execution_count": null,
      "outputs": [
        {
          "output_type": "execute_result",
          "data": {
            "text/plain": [
              "9656"
            ]
          },
          "metadata": {},
          "execution_count": 18
        }
      ]
    },
    {
      "cell_type": "code",
      "metadata": {
        "colab": {
          "base_uri": "https://localhost:8080/",
          "height": 1000
        },
        "id": "bAc0IU5QnUcJ",
        "outputId": "0025ace7-e7ca-415d-f4b9-d4bd79a7fee3"
      },
      "source": [
        "fig, ax = plt.subplots(figsize=(15, 15))\n",
        "keywords.plot(100, cumulative=False)\n",
        "fig.savefig(\"/content/drive/MyDrive/tag_distribution.jpg\",bbox_inches='tight')"
      ],
      "execution_count": null,
      "outputs": [
        {
          "output_type": "display_data",
          "data": {
            "image/png": "[encoded data removed]",
            "text/plain": [
              "<Figure size 1080x1080 with 1 Axes>"
            ]
          },
          "metadata": {
            "needs_background": "light"
          }
        }
      ]
    },
    {
      "cell_type": "code",
      "metadata": {
        "id": "nHuG5E2unYwV"
      },
      "source": [
        "def most_common(tags):\n",
        "  '''\n",
        "  checking if tags in an entry is in the most common tags .\n",
        "  '''\n",
        "  tags_filtered = []\n",
        "  for i in range(0, len(tags)):\n",
        "      if tags[i] in tags_features:\n",
        "          tags_filtered.append(tags[i])\n",
        "  return tags_filtered"
      ],
      "execution_count": null,
      "outputs": []
    },
    {
      "cell_type": "code",
      "metadata": {
        "id": "Fj-fByUYnlST"
      },
      "source": [
        "new_data['Tag'] = new_data['Tag'].apply(lambda x: most_common(x))\n",
        "new_data['Tag'] = new_data['Tag'].apply(lambda x: x if len(x)>0 else None)"
      ],
      "execution_count": null,
      "outputs": []
    },
    {
      "cell_type": "code",
      "metadata": {
        "colab": {
          "base_uri": "https://localhost:8080/"
        },
        "id": "s_H_HRHSnw9M",
        "outputId": "ba0fb204-ce03-4c8d-cd22-dec056131491"
      },
      "source": [
        "new_data.shape"
      ],
      "execution_count": null,
      "outputs": [
        {
          "output_type": "execute_result",
          "data": {
            "text/plain": [
              "(19475, 8)"
            ]
          },
          "metadata": {},
          "execution_count": 22
        }
      ]
    },
    {
      "cell_type": "code",
      "metadata": {
        "colab": {
          "base_uri": "https://localhost:8080/",
          "height": 597
        },
        "id": "KVB5TBBQxw2g",
        "outputId": "978a9c60-acba-4537-f14a-176113c6756b"
      },
      "source": [
        "new_data"
      ],
      "execution_count": null,
      "outputs": [
        {
          "output_type": "execute_result",
          "data": {
            "text/html": [
              "<div>\n",
              "<style scoped>\n",
              "    .dataframe tbody tr th:only-of-type {\n",
              "        vertical-align: middle;\n",
              "    }\n",
              "\n",
              "    .dataframe tbody tr th {\n",
              "        vertical-align: top;\n",
              "    }\n",
              "\n",
              "    .dataframe thead th {\n",
              "        text-align: right;\n",
              "    }\n",
              "</style>\n",
              "<table border=\"1\" class=\"dataframe\">\n",
              "  <thead>\n",
              "    <tr style=\"text-align: right;\">\n",
              "      <th></th>\n",
              "      <th>ParentId</th>\n",
              "      <th>Q_Score</th>\n",
              "      <th>Title</th>\n",
              "      <th>Question</th>\n",
              "      <th>Answer_Id</th>\n",
              "      <th>A_Score</th>\n",
              "      <th>Answer</th>\n",
              "      <th>Tag</th>\n",
              "    </tr>\n",
              "  </thead>\n",
              "  <tbody>\n",
              "    <tr>\n",
              "      <th>0</th>\n",
              "      <td>3567180</td>\n",
              "      <td>29</td>\n",
              "      <td>Increment Letters like numbers</td>\n",
              "      <td>I would like to write a function that takes in...</td>\n",
              "      <td>3567218</td>\n",
              "      <td>65</td>\n",
              "      <td>Character/string increment works in PHP (thoug...</td>\n",
              "      <td>[php]</td>\n",
              "    </tr>\n",
              "    <tr>\n",
              "      <th>1</th>\n",
              "      <td>1692500</td>\n",
              "      <td>11</td>\n",
              "      <td>Get height/width of image in Javascript (ideal...</td>\n",
              "      <td>Sorry if this has already been answered, but I...</td>\n",
              "      <td>1692507</td>\n",
              "      <td>15</td>\n",
              "      <td>If the image is not loaded, it won't have its'...</td>\n",
              "      <td>[javascript]</td>\n",
              "    </tr>\n",
              "    <tr>\n",
              "      <th>2</th>\n",
              "      <td>1571340</td>\n",
              "      <td>151</td>\n",
              "      <td>What is the \"assert\" function?</td>\n",
              "      <td>I've been studying OpenCV tutorials and came a...</td>\n",
              "      <td>1571644</td>\n",
              "      <td>75</td>\n",
              "      <td>The assert computer statement is analogous to ...</td>\n",
              "      <td>None</td>\n",
              "    </tr>\n",
              "    <tr>\n",
              "      <th>3</th>\n",
              "      <td>1571340</td>\n",
              "      <td>151</td>\n",
              "      <td>What is the \"assert\" function?</td>\n",
              "      <td>I've been studying OpenCV tutorials and came a...</td>\n",
              "      <td>1571360</td>\n",
              "      <td>178</td>\n",
              "      <td>assert will terminate the program (usually wit...</td>\n",
              "      <td>None</td>\n",
              "    </tr>\n",
              "    <tr>\n",
              "      <th>4</th>\n",
              "      <td>791390</td>\n",
              "      <td>36</td>\n",
              "      <td>More Elegant Exception Handling Than Multiple ...</td>\n",
              "      <td>Using C#, is there a better way to handle mult...</td>\n",
              "      <td>791401</td>\n",
              "      <td>9</td>\n",
              "      <td>Unfortunately, C# does not have user exception...</td>\n",
              "      <td>None</td>\n",
              "    </tr>\n",
              "    <tr>\n",
              "      <th>...</th>\n",
              "      <td>...</td>\n",
              "      <td>...</td>\n",
              "      <td>...</td>\n",
              "      <td>...</td>\n",
              "      <td>...</td>\n",
              "      <td>...</td>\n",
              "      <td>...</td>\n",
              "      <td>...</td>\n",
              "    </tr>\n",
              "    <tr>\n",
              "      <th>19470</th>\n",
              "      <td>3042220</td>\n",
              "      <td>9</td>\n",
              "      <td>How do I calculate the size of an entity store...</td>\n",
              "      <td>Is there an easy way to calculate the size of ...</td>\n",
              "      <td>3042250</td>\n",
              "      <td>13</td>\n",
              "      <td>App engine stores each entity as a protobuf.  ...</td>\n",
              "      <td>None</td>\n",
              "    </tr>\n",
              "    <tr>\n",
              "      <th>19471</th>\n",
              "      <td>1300890</td>\n",
              "      <td>12</td>\n",
              "      <td>MD5 hash with salt for keeping password in DB ...</td>\n",
              "      <td>Could you please advise me some easy algorithm...</td>\n",
              "      <td>1300927</td>\n",
              "      <td>34</td>\n",
              "      <td>You can use the HMACMD5 class:\\nvar hmacMD5 = ...</td>\n",
              "      <td>None</td>\n",
              "    </tr>\n",
              "    <tr>\n",
              "      <th>19472</th>\n",
              "      <td>3047010</td>\n",
              "      <td>64</td>\n",
              "      <td>Best Redis library for Java</td>\n",
              "      <td>The official Redis homepage lists JDBC-Redis a...</td>\n",
              "      <td>3838731</td>\n",
              "      <td>9</td>\n",
              "      <td>Both Jedis and JRedis are being actively devel...</td>\n",
              "      <td>None</td>\n",
              "    </tr>\n",
              "    <tr>\n",
              "      <th>19473</th>\n",
              "      <td>3047010</td>\n",
              "      <td>64</td>\n",
              "      <td>Best Redis library for Java</td>\n",
              "      <td>The official Redis homepage lists JDBC-Redis a...</td>\n",
              "      <td>4082125</td>\n",
              "      <td>6</td>\n",
              "      <td>An easier solution is to not worry about worki...</td>\n",
              "      <td>None</td>\n",
              "    </tr>\n",
              "    <tr>\n",
              "      <th>19474</th>\n",
              "      <td>3047010</td>\n",
              "      <td>64</td>\n",
              "      <td>Best Redis library for Java</td>\n",
              "      <td>The official Redis homepage lists JDBC-Redis a...</td>\n",
              "      <td>3578968</td>\n",
              "      <td>64</td>\n",
              "      <td>You can use also Jedis, which is also in the o...</td>\n",
              "      <td>None</td>\n",
              "    </tr>\n",
              "  </tbody>\n",
              "</table>\n",
              "<p>19475 rows × 8 columns</p>\n",
              "</div>"
            ],
            "text/plain": [
              "       ParentId  ...           Tag\n",
              "0       3567180  ...         [php]\n",
              "1       1692500  ...  [javascript]\n",
              "2       1571340  ...          None\n",
              "3       1571340  ...          None\n",
              "4        791390  ...          None\n",
              "...         ...  ...           ...\n",
              "19470   3042220  ...          None\n",
              "19471   1300890  ...          None\n",
              "19472   3047010  ...          None\n",
              "19473   3047010  ...          None\n",
              "19474   3047010  ...          None\n",
              "\n",
              "[19475 rows x 8 columns]"
            ]
          },
          "metadata": {},
          "execution_count": 23
        }
      ]
    },
    {
      "cell_type": "code",
      "metadata": {
        "id": "fnekG2Lfn0OC"
      },
      "source": [
        "new_data.dropna(subset=['Tag'], inplace=True)"
      ],
      "execution_count": null,
      "outputs": []
    },
    {
      "cell_type": "code",
      "metadata": {
        "colab": {
          "base_uri": "https://localhost:8080/"
        },
        "id": "1Ebrvt5Un-aS",
        "outputId": "bd2046e5-c6f4-4e33-bd9e-91ec5fbe5a87"
      },
      "source": [
        "new_data.shape"
      ],
      "execution_count": null,
      "outputs": [
        {
          "output_type": "execute_result",
          "data": {
            "text/plain": [
              "(2663, 8)"
            ]
          },
          "metadata": {},
          "execution_count": 25
        }
      ]
    },
    {
      "cell_type": "code",
      "metadata": {
        "colab": {
          "base_uri": "https://localhost:8080/",
          "height": 293
        },
        "id": "ACF911lOoA8q",
        "outputId": "5bde1368-a42a-4f2a-b86b-61bbedfa50fa"
      },
      "source": [
        "new_data.head()"
      ],
      "execution_count": null,
      "outputs": [
        {
          "output_type": "execute_result",
          "data": {
            "text/html": [
              "<div>\n",
              "<style scoped>\n",
              "    .dataframe tbody tr th:only-of-type {\n",
              "        vertical-align: middle;\n",
              "    }\n",
              "\n",
              "    .dataframe tbody tr th {\n",
              "        vertical-align: top;\n",
              "    }\n",
              "\n",
              "    .dataframe thead th {\n",
              "        text-align: right;\n",
              "    }\n",
              "</style>\n",
              "<table border=\"1\" class=\"dataframe\">\n",
              "  <thead>\n",
              "    <tr style=\"text-align: right;\">\n",
              "      <th></th>\n",
              "      <th>ParentId</th>\n",
              "      <th>Q_Score</th>\n",
              "      <th>Title</th>\n",
              "      <th>Question</th>\n",
              "      <th>Answer_Id</th>\n",
              "      <th>A_Score</th>\n",
              "      <th>Answer</th>\n",
              "      <th>Tag</th>\n",
              "    </tr>\n",
              "  </thead>\n",
              "  <tbody>\n",
              "    <tr>\n",
              "      <th>0</th>\n",
              "      <td>3567180</td>\n",
              "      <td>29</td>\n",
              "      <td>Increment Letters like numbers</td>\n",
              "      <td>I would like to write a function that takes in...</td>\n",
              "      <td>3567218</td>\n",
              "      <td>65</td>\n",
              "      <td>Character/string increment works in PHP (thoug...</td>\n",
              "      <td>[php]</td>\n",
              "    </tr>\n",
              "    <tr>\n",
              "      <th>1</th>\n",
              "      <td>1692500</td>\n",
              "      <td>11</td>\n",
              "      <td>Get height/width of image in Javascript (ideal...</td>\n",
              "      <td>Sorry if this has already been answered, but I...</td>\n",
              "      <td>1692507</td>\n",
              "      <td>15</td>\n",
              "      <td>If the image is not loaded, it won't have its'...</td>\n",
              "      <td>[javascript]</td>\n",
              "    </tr>\n",
              "    <tr>\n",
              "      <th>45</th>\n",
              "      <td>2325370</td>\n",
              "      <td>8</td>\n",
              "      <td>C# Increase Heap Size - Is It Possible</td>\n",
              "      <td>I have an out of memory exception using C# whe...</td>\n",
              "      <td>2325402</td>\n",
              "      <td>5</td>\n",
              "      <td>No, this is not possible. This problem might o...</td>\n",
              "      <td>[c#]</td>\n",
              "    </tr>\n",
              "    <tr>\n",
              "      <th>56</th>\n",
              "      <td>3859170</td>\n",
              "      <td>13</td>\n",
              "      <td>How to use jQuery to prevent the space key fro...</td>\n",
              "      <td>I thought it would be a simple thing to hijack...</td>\n",
              "      <td>3859230</td>\n",
              "      <td>18</td>\n",
              "      <td>The problem is that return 109 doesn't do what...</td>\n",
              "      <td>[javascript,jquery]</td>\n",
              "    </tr>\n",
              "    <tr>\n",
              "      <th>57</th>\n",
              "      <td>3859170</td>\n",
              "      <td>13</td>\n",
              "      <td>How to use jQuery to prevent the space key fro...</td>\n",
              "      <td>I thought it would be a simple thing to hijack...</td>\n",
              "      <td>3859190</td>\n",
              "      <td>10</td>\n",
              "      <td>You usually want the keyup event instead here,...</td>\n",
              "      <td>[javascript,jquery]</td>\n",
              "    </tr>\n",
              "  </tbody>\n",
              "</table>\n",
              "</div>"
            ],
            "text/plain": [
              "    ParentId  ...                  Tag\n",
              "0    3567180  ...                [php]\n",
              "1    1692500  ...         [javascript]\n",
              "45   2325370  ...                 [c#]\n",
              "56   3859170  ...  [javascript,jquery]\n",
              "57   3859170  ...  [javascript,jquery]\n",
              "\n",
              "[5 rows x 8 columns]"
            ]
          },
          "metadata": {},
          "execution_count": 26
        }
      ]
    },
    {
      "cell_type": "markdown",
      "metadata": {
        "id": "3j5RzHjDyb6n"
      },
      "source": [
        "Preprocessing Body\n",
        "\n"
      ]
    },
    {
      "cell_type": "code",
      "metadata": {
        "id": "NDrzpPebyos2"
      },
      "source": [
        "def clean_text(text):\n",
        "  '''\n",
        "  removing escape characters and special characters\n",
        "  '''\n",
        "  text = text.lower()\n",
        "  text = re.sub(r\"what's\", \"what is \", text)\n",
        "  text = re.sub(r\"\\'s\", \" \", text)\n",
        "  text = re.sub(r\"\\'ve\", \" have \", text)\n",
        "  text = re.sub(r\"can't\", \"can not \", text)\n",
        "  text = re.sub(r\"won't\", \"will not \", text)\n",
        "  text = re.sub(r\"n't\", \" not \", text)\n",
        "  text = re.sub(r\"i'm\", \"i am \", text)\n",
        "  text = re.sub(r\"\\'re\", \" are \", text)\n",
        "  text = re.sub(r\"\\'d\", \" would \", text)\n",
        "  text = re.sub(r\"\\'ll\", \" will \", text)\n",
        "  text = re.sub(r\"\\'scuse\", \" excuse \", text)\n",
        "  text = re.sub(r\"\\'\\n\", \" \", text)\n",
        "  text = re.sub(r\"\\'\\xa0\", \" \", text)\n",
        "  text = re.sub('\\s+', ' ', text)\n",
        "  text = text.strip(' ')\n",
        "  return text"
      ],
      "execution_count": null,
      "outputs": []
    },
    {
      "cell_type": "code",
      "metadata": {
        "id": "oNs3j03tyXSU"
      },
      "source": [
        "new_data['Title'] = new_data['Title'].apply(lambda x: clean_text(x)) "
      ],
      "execution_count": null,
      "outputs": []
    },
    {
      "cell_type": "code",
      "metadata": {
        "id": "YIKV1QzRzApE"
      },
      "source": [
        "new_data['Question'] = new_data['Question'].apply(lambda x: clean_text(x)) "
      ],
      "execution_count": null,
      "outputs": []
    },
    {
      "cell_type": "code",
      "metadata": {
        "id": "xUsGwWbmzXee"
      },
      "source": [
        "new_data['Answer'] = new_data['Answer'].apply(lambda x: clean_text(x)) "
      ],
      "execution_count": null,
      "outputs": []
    },
    {
      "cell_type": "code",
      "metadata": {
        "colab": {
          "base_uri": "https://localhost:8080/",
          "height": 293
        },
        "id": "AfOdpzY5za8C",
        "outputId": "4ddc665f-eafa-4c17-c39e-1073c5925963"
      },
      "source": [
        "new_data.head()"
      ],
      "execution_count": null,
      "outputs": [
        {
          "output_type": "execute_result",
          "data": {
            "text/html": [
              "<div>\n",
              "<style scoped>\n",
              "    .dataframe tbody tr th:only-of-type {\n",
              "        vertical-align: middle;\n",
              "    }\n",
              "\n",
              "    .dataframe tbody tr th {\n",
              "        vertical-align: top;\n",
              "    }\n",
              "\n",
              "    .dataframe thead th {\n",
              "        text-align: right;\n",
              "    }\n",
              "</style>\n",
              "<table border=\"1\" class=\"dataframe\">\n",
              "  <thead>\n",
              "    <tr style=\"text-align: right;\">\n",
              "      <th></th>\n",
              "      <th>ParentId</th>\n",
              "      <th>Q_Score</th>\n",
              "      <th>Title</th>\n",
              "      <th>Question</th>\n",
              "      <th>Answer_Id</th>\n",
              "      <th>A_Score</th>\n",
              "      <th>Answer</th>\n",
              "      <th>Tag</th>\n",
              "    </tr>\n",
              "  </thead>\n",
              "  <tbody>\n",
              "    <tr>\n",
              "      <th>0</th>\n",
              "      <td>3567180</td>\n",
              "      <td>29</td>\n",
              "      <td>increment letters like numbers</td>\n",
              "      <td>i would like to write a function that takes in...</td>\n",
              "      <td>3567218</td>\n",
              "      <td>65</td>\n",
              "      <td>character/string increment works in php (thoug...</td>\n",
              "      <td>[php]</td>\n",
              "    </tr>\n",
              "    <tr>\n",
              "      <th>1</th>\n",
              "      <td>1692500</td>\n",
              "      <td>11</td>\n",
              "      <td>get height/width of image in javascript (ideal...</td>\n",
              "      <td>sorry if this has already been answered, but i...</td>\n",
              "      <td>1692507</td>\n",
              "      <td>15</td>\n",
              "      <td>if the image is not loaded, it will not have i...</td>\n",
              "      <td>[javascript]</td>\n",
              "    </tr>\n",
              "    <tr>\n",
              "      <th>45</th>\n",
              "      <td>2325370</td>\n",
              "      <td>8</td>\n",
              "      <td>c# increase heap size - is it possible</td>\n",
              "      <td>i have an out of memory exception using c# whe...</td>\n",
              "      <td>2325402</td>\n",
              "      <td>5</td>\n",
              "      <td>no, this is not possible. this problem might o...</td>\n",
              "      <td>[c#]</td>\n",
              "    </tr>\n",
              "    <tr>\n",
              "      <th>56</th>\n",
              "      <td>3859170</td>\n",
              "      <td>13</td>\n",
              "      <td>how to use jquery to prevent the space key fro...</td>\n",
              "      <td>i thought it would be a simple thing to hijack...</td>\n",
              "      <td>3859230</td>\n",
              "      <td>18</td>\n",
              "      <td>the problem is that return 109 does not do wha...</td>\n",
              "      <td>[javascript,jquery]</td>\n",
              "    </tr>\n",
              "    <tr>\n",
              "      <th>57</th>\n",
              "      <td>3859170</td>\n",
              "      <td>13</td>\n",
              "      <td>how to use jquery to prevent the space key fro...</td>\n",
              "      <td>i thought it would be a simple thing to hijack...</td>\n",
              "      <td>3859190</td>\n",
              "      <td>10</td>\n",
              "      <td>you usually want the keyup event instead here,...</td>\n",
              "      <td>[javascript,jquery]</td>\n",
              "    </tr>\n",
              "  </tbody>\n",
              "</table>\n",
              "</div>"
            ],
            "text/plain": [
              "    ParentId  ...                  Tag\n",
              "0    3567180  ...                [php]\n",
              "1    1692500  ...         [javascript]\n",
              "45   2325370  ...                 [c#]\n",
              "56   3859170  ...  [javascript,jquery]\n",
              "57   3859170  ...  [javascript,jquery]\n",
              "\n",
              "[5 rows x 8 columns]"
            ]
          },
          "metadata": {},
          "execution_count": 31
        }
      ]
    },
    {
      "cell_type": "code",
      "source": [
        "new_data['Answer']"
      ],
      "metadata": {
        "colab": {
          "base_uri": "https://localhost:8080/"
        },
        "id": "YXfH047TNe-1",
        "outputId": "c803a7e7-89a7-4db6-91d8-719040cd77d6"
      },
      "execution_count": null,
      "outputs": [
        {
          "output_type": "execute_result",
          "data": {
            "text/plain": [
              "0        character/string increment works in php (thoug...\n",
              "1        if the image is not loaded, it will not have i...\n",
              "45       no, this is not possible. this problem might o...\n",
              "56       the problem is that return 109 does not do wha...\n",
              "57       you usually want the keyup event instead here,...\n",
              "                               ...                        \n",
              "19433    based on sfeley answer, here is an updated/fix...\n",
              "19462    use dateformat to solve this problem: dateform...\n",
              "19463    i did as follows and it worked: (current date ...\n",
              "19466    document.getelementbyid(\"in1\").setattribute(\"n...\n",
              "19467    try this: document.getelementbyid(\"in1\").setat...\n",
              "Name: Answer, Length: 2663, dtype: object"
            ]
          },
          "metadata": {},
          "execution_count": 32
        }
      ]
    },
    {
      "cell_type": "code",
      "metadata": {
        "id": "-SlffQflzcbr"
      },
      "source": [
        "token=ToktokTokenizer()"
      ],
      "execution_count": null,
      "outputs": []
    },
    {
      "cell_type": "code",
      "metadata": {
        "id": "BeiAEtZ_zu6g"
      },
      "source": [
        "punct = '!\"#$%&\\'()*+,./:;<=>?@[\\\\]^_`{|}~'"
      ],
      "execution_count": null,
      "outputs": []
    },
    {
      "cell_type": "code",
      "metadata": {
        "id": "NgW0Etj72GwC"
      },
      "source": [
        "def strip_list_noempty(mylist):\n",
        "    newlist = (item.strip() if hasattr(item, 'strip') else item for item in mylist)\n",
        "    return [item for item in newlist if item != '']"
      ],
      "execution_count": null,
      "outputs": []
    },
    {
      "cell_type": "code",
      "source": [
        "re.escape(punct)"
      ],
      "metadata": {
        "colab": {
          "base_uri": "https://localhost:8080/",
          "height": 36
        },
        "id": "ygoQ2ywERmmI",
        "outputId": "b7031834-65e3-4377-899c-17ffe0985df7"
      },
      "execution_count": null,
      "outputs": [
        {
          "output_type": "execute_result",
          "data": {
            "application/vnd.google.colaboratory.intrinsic+json": {
              "type": "string"
            },
            "text/plain": [
              "'!\"\\\\#\\\\$%\\\\&\\'\\\\(\\\\)\\\\*\\\\+,\\\\./:;<=>\\\\?@\\\\[\\\\\\\\\\\\]\\\\^_`\\\\{\\\\|\\\\}\\\\~'"
            ]
          },
          "metadata": {},
          "execution_count": 36
        }
      ]
    },
    {
      "cell_type": "code",
      "source": [
        "re.compile('[%s]' % re.escape(punct))"
      ],
      "metadata": {
        "colab": {
          "base_uri": "https://localhost:8080/"
        },
        "id": "BUxy4I5_RnJA",
        "outputId": "1c4122c3-23a2-4d39-e64b-36441140ddf5"
      },
      "execution_count": null,
      "outputs": [
        {
          "output_type": "execute_result",
          "data": {
            "text/plain": [
              "re.compile(r'[!\"\\#\\$%\\&\\'\\(\\)\\*\\+,\\./:;<=>\\?@\\[\\\\\\]\\^_`\\{\\|\\}\\~]', re.UNICODE)"
            ]
          },
          "metadata": {},
          "execution_count": 37
        }
      ]
    },
    {
      "cell_type": "code",
      "metadata": {
        "id": "EsqtBXqX2M0t"
      },
      "source": [
        "def clean_punct(text): \n",
        "    words=token.tokenize(text)\n",
        "    punctuation_filtered = []\n",
        "    regex = re.compile('[%s]' % re.escape(punct))\n",
        "    # remove_punctuation = str.maketrans(' ', ' ', punct)\n",
        "    for w in words:\n",
        "        if w in tags_features:\n",
        "            punctuation_filtered.append(w)\n",
        "        else:\n",
        "            punctuation_filtered.append(regex.sub('', w))\n",
        "  \n",
        "    filtered_list = strip_list_noempty(punctuation_filtered)\n",
        "        \n",
        "    return ' '.join(map(str, filtered_list))"
      ],
      "execution_count": null,
      "outputs": []
    },
    {
      "cell_type": "code",
      "metadata": {
        "id": "V0be-jmQ2UNQ"
      },
      "source": [
        "new_data['Answer'] = new_data['Answer'].apply(lambda x: clean_punct(x)) \n",
        "new_data['Question'] = new_data['Question'].apply(lambda x: clean_punct(x)) \n",
        "new_data['Title'] = new_data['Title'].apply(lambda x: clean_punct(x)) "
      ],
      "execution_count": null,
      "outputs": []
    },
    {
      "cell_type": "code",
      "metadata": {
        "colab": {
          "base_uri": "https://localhost:8080/",
          "height": 54
        },
        "id": "dLBWduYY3mcU",
        "outputId": "da26d184-9870-4c3d-dfff-9ef0fb2b2679"
      },
      "source": [
        "new_data['Answer'][45]"
      ],
      "execution_count": null,
      "outputs": [
        {
          "output_type": "execute_result",
          "data": {
            "application/vnd.google.colaboratory.intrinsic+json": {
              "type": "string"
            },
            "text/plain": [
              "'no this is not possible this problem might occur because you are running on a 32-bit os and memory is too fragmented try not to load the whole file into memory for instance by processing line by line or when you really need to load it completely by loading it in multiple smaller parts'"
            ]
          },
          "metadata": {},
          "execution_count": 40
        }
      ]
    },
    {
      "cell_type": "code",
      "metadata": {
        "colab": {
          "base_uri": "https://localhost:8080/"
        },
        "id": "dN68Fikd4l4e",
        "outputId": "4550ee0f-5ccb-4a59-ab73-fe8e7f7b45a5"
      },
      "source": [
        "nltk.download('stopwords')"
      ],
      "execution_count": null,
      "outputs": [
        {
          "output_type": "stream",
          "name": "stdout",
          "text": [
            "[nltk_data] Downloading package stopwords to /root/nltk_data...\n",
            "[nltk_data]   Unzipping corpora/stopwords.zip.\n"
          ]
        },
        {
          "output_type": "execute_result",
          "data": {
            "text/plain": [
              "True"
            ]
          },
          "metadata": {},
          "execution_count": 41
        }
      ]
    },
    {
      "cell_type": "code",
      "metadata": {
        "colab": {
          "base_uri": "https://localhost:8080/"
        },
        "id": "L2PtDfoo4-s0",
        "outputId": "01e42970-d466-4fae-9f81-1466d4abc7c4"
      },
      "source": [
        "nltk.download('wordnet')"
      ],
      "execution_count": null,
      "outputs": [
        {
          "output_type": "stream",
          "name": "stdout",
          "text": [
            "[nltk_data] Downloading package wordnet to /root/nltk_data...\n",
            "[nltk_data]   Unzipping corpora/wordnet.zip.\n"
          ]
        },
        {
          "output_type": "execute_result",
          "data": {
            "text/plain": [
              "True"
            ]
          },
          "metadata": {},
          "execution_count": 42
        }
      ]
    },
    {
      "cell_type": "code",
      "metadata": {
        "id": "SHF2TXDL3ttp"
      },
      "source": [
        "lemma=WordNetLemmatizer()\n",
        "stop_words = set(stopwords.words(\"english\"))"
      ],
      "execution_count": null,
      "outputs": []
    },
    {
      "cell_type": "code",
      "metadata": {
        "id": "e4wxOwS_32_v"
      },
      "source": [
        "def lemitizeWords(text):\n",
        "    words=token.tokenize(text)\n",
        "    listLemma=[]\n",
        "    for w in words:\n",
        "        x=lemma.lemmatize(w, pos=\"v\")\n",
        "        listLemma.append(x)\n",
        "    return ' '.join(map(str, listLemma))\n",
        "\n",
        "def stopWordsRemove(text):\n",
        "    stop_words = set(stopwords.words(\"english\"))\n",
        "    words=token.tokenize(text)\n",
        "    filtered = [w for w in words if not w in stop_words]\n",
        "    return ' '.join(map(str, filtered))\n"
      ],
      "execution_count": null,
      "outputs": []
    },
    {
      "cell_type": "code",
      "metadata": {
        "id": "ShPkLJwP4swS"
      },
      "source": [
        "new_data['Answer'] = new_data['Answer'].apply(lambda x: lemitizeWords(x)) \n",
        "new_data['Answer'] = new_data['Answer'].apply(lambda x: stopWordsRemove(x)) "
      ],
      "execution_count": null,
      "outputs": []
    },
    {
      "cell_type": "code",
      "source": [
        "new_data['Title'] = new_data['Title'].apply(lambda x: lemitizeWords(x)) \n",
        "new_data['Title'] = new_data['Title'].apply(lambda x: stopWordsRemove(x)) \n",
        "\n",
        "new_data['Question'] = new_data['Question'].apply(lambda x: lemitizeWords(x)) \n",
        "new_data['Question'] = new_data['Question'].apply(lambda x: stopWordsRemove(x)) \n",
        "\n",
        "new_data['Tag'] = new_data['Tag'].apply(lambda x: lemitizeWords(x)) \n",
        "new_data['Tag'] = new_data['Tag'].apply(lambda x: stopWordsRemove(x)) "
      ],
      "metadata": {
        "id": "M-9sQFy7rFty"
      },
      "execution_count": null,
      "outputs": []
    },
    {
      "cell_type": "code",
      "source": [
        "new_data"
      ],
      "metadata": {
        "colab": {
          "base_uri": "https://localhost:8080/",
          "height": 597
        },
        "id": "W9F68mDwPIrE",
        "outputId": "05f6fe00-44cd-466d-b1c5-f880e4ab9ec1"
      },
      "execution_count": null,
      "outputs": [
        {
          "output_type": "execute_result",
          "data": {
            "text/html": [
              "<div>\n",
              "<style scoped>\n",
              "    .dataframe tbody tr th:only-of-type {\n",
              "        vertical-align: middle;\n",
              "    }\n",
              "\n",
              "    .dataframe tbody tr th {\n",
              "        vertical-align: top;\n",
              "    }\n",
              "\n",
              "    .dataframe thead th {\n",
              "        text-align: right;\n",
              "    }\n",
              "</style>\n",
              "<table border=\"1\" class=\"dataframe\">\n",
              "  <thead>\n",
              "    <tr style=\"text-align: right;\">\n",
              "      <th></th>\n",
              "      <th>ParentId</th>\n",
              "      <th>Q_Score</th>\n",
              "      <th>Title</th>\n",
              "      <th>Question</th>\n",
              "      <th>Answer_Id</th>\n",
              "      <th>A_Score</th>\n",
              "      <th>Answer</th>\n",
              "      <th>Tag</th>\n",
              "    </tr>\n",
              "  </thead>\n",
              "  <tbody>\n",
              "    <tr>\n",
              "      <th>0</th>\n",
              "      <td>3567180</td>\n",
              "      <td>29</td>\n",
              "      <td>increment letter like number</td>\n",
              "      <td>would like write function take 3 character inc...</td>\n",
              "      <td>3567218</td>\n",
              "      <td>65</td>\n",
              "      <td>characterstring increment work php though decr...</td>\n",
              "      <td>[ ' php ' ]</td>\n",
              "    </tr>\n",
              "    <tr>\n",
              "      <th>1</th>\n",
              "      <td>1692500</td>\n",
              "      <td>11</td>\n",
              "      <td>get heightwidth image javascript ideally witho...</td>\n",
              "      <td>sorry already answer find want find height wid...</td>\n",
              "      <td>1692507</td>\n",
              "      <td>15</td>\n",
              "      <td>image load height width set wait image fully l...</td>\n",
              "      <td>[ ' javascript ' ]</td>\n",
              "    </tr>\n",
              "    <tr>\n",
              "      <th>45</th>\n",
              "      <td>2325370</td>\n",
              "      <td>8</td>\n",
              "      <td>c# increase heap size - possible</td>\n",
              "      <td>memory exception use c# read massive file need...</td>\n",
              "      <td>2325402</td>\n",
              "      <td>5</td>\n",
              "      <td>possible problem might occur run 32-bit os mem...</td>\n",
              "      <td>[ ' c# ' ]</td>\n",
              "    </tr>\n",
              "    <tr>\n",
              "      <th>56</th>\n",
              "      <td>3859170</td>\n",
              "      <td>13</td>\n",
              "      <td>use jquery prevent space key enter space</td>\n",
              "      <td>think would simple thing hijack space key form...</td>\n",
              "      <td>3859230</td>\n",
              "      <td>18</td>\n",
              "      <td>problem return 109 want event handler return t...</td>\n",
              "      <td>[ ' javascript , jquery ' ]</td>\n",
              "    </tr>\n",
              "    <tr>\n",
              "      <th>57</th>\n",
              "      <td>3859170</td>\n",
              "      <td>13</td>\n",
              "      <td>use jquery prevent space key enter space</td>\n",
              "      <td>think would simple thing hijack space key form...</td>\n",
              "      <td>3859190</td>\n",
              "      <td>10</td>\n",
              "      <td>usually want keyup event instead fire space ad...</td>\n",
              "      <td>[ ' javascript , jquery ' ]</td>\n",
              "    </tr>\n",
              "    <tr>\n",
              "      <th>...</th>\n",
              "      <td>...</td>\n",
              "      <td>...</td>\n",
              "      <td>...</td>\n",
              "      <td>...</td>\n",
              "      <td>...</td>\n",
              "      <td>...</td>\n",
              "      <td>...</td>\n",
              "      <td>...</td>\n",
              "    </tr>\n",
              "    <tr>\n",
              "      <th>19433</th>\n",
              "      <td>1186400</td>\n",
              "      <td>81</td>\n",
              "      <td>set default value rail</td>\n",
              "      <td>try find best way set default value object rai...</td>\n",
              "      <td>10193221</td>\n",
              "      <td>51</td>\n",
              "      <td>base sfeley answer updatedfixed one newer rail...</td>\n",
              "      <td>[ ' ruby-on-rails , ruby ' ]</td>\n",
              "    </tr>\n",
              "    <tr>\n",
              "      <th>19462</th>\n",
              "      <td>2806360</td>\n",
              "      <td>11</td>\n",
              "      <td>java program get current date without timestamp</td>\n",
              "      <td>need java program get current date without tim...</td>\n",
              "      <td>21929530</td>\n",
              "      <td>8</td>\n",
              "      <td>use dateformat solve problem dateformat datefo...</td>\n",
              "      <td>[ ' java ' ]</td>\n",
              "    </tr>\n",
              "    <tr>\n",
              "      <th>19463</th>\n",
              "      <td>2806360</td>\n",
              "      <td>11</td>\n",
              "      <td>java program get current date without timestamp</td>\n",
              "      <td>need java program get current date without tim...</td>\n",
              "      <td>12471430</td>\n",
              "      <td>6</td>\n",
              "      <td>follow work current date without timestamp sim...</td>\n",
              "      <td>[ ' java ' ]</td>\n",
              "    </tr>\n",
              "    <tr>\n",
              "      <th>19466</th>\n",
              "      <td>1073350</td>\n",
              "      <td>6</td>\n",
              "      <td>want use javascript insert attribute element</td>\n",
              "      <td>ideas would go write javascript method insert ...</td>\n",
              "      <td>1073365</td>\n",
              "      <td>5</td>\n",
              "      <td>documentgetelementbyid in1 setattribute name s...</td>\n",
              "      <td>[ ' javascript , html ' ]</td>\n",
              "    </tr>\n",
              "    <tr>\n",
              "      <th>19467</th>\n",
              "      <td>1073350</td>\n",
              "      <td>6</td>\n",
              "      <td>want use javascript insert attribute element</td>\n",
              "      <td>ideas would go write javascript method insert ...</td>\n",
              "      <td>1073355</td>\n",
              "      <td>18</td>\n",
              "      <td>try documentgetelementbyid in1 setattribute na...</td>\n",
              "      <td>[ ' javascript , html ' ]</td>\n",
              "    </tr>\n",
              "  </tbody>\n",
              "</table>\n",
              "<p>2663 rows × 8 columns</p>\n",
              "</div>"
            ],
            "text/plain": [
              "       ParentId  ...                           Tag\n",
              "0       3567180  ...                   [ ' php ' ]\n",
              "1       1692500  ...            [ ' javascript ' ]\n",
              "45      2325370  ...                    [ ' c# ' ]\n",
              "56      3859170  ...   [ ' javascript , jquery ' ]\n",
              "57      3859170  ...   [ ' javascript , jquery ' ]\n",
              "...         ...  ...                           ...\n",
              "19433   1186400  ...  [ ' ruby-on-rails , ruby ' ]\n",
              "19462   2806360  ...                  [ ' java ' ]\n",
              "19463   2806360  ...                  [ ' java ' ]\n",
              "19466   1073350  ...     [ ' javascript , html ' ]\n",
              "19467   1073350  ...     [ ' javascript , html ' ]\n",
              "\n",
              "[2663 rows x 8 columns]"
            ]
          },
          "metadata": {},
          "execution_count": 47
        }
      ]
    },
    {
      "cell_type": "markdown",
      "metadata": {
        "id": "695zWEFY5MYn"
      },
      "source": [
        "EDA\n"
      ]
    },
    {
      "cell_type": "code",
      "metadata": {
        "id": "syJD21Nw5Lle"
      },
      "source": [
        "no_topics = 20"
      ],
      "execution_count": null,
      "outputs": []
    },
    {
      "cell_type": "code",
      "metadata": {
        "id": "viK7-srR45_Z"
      },
      "source": [
        "text1= new_data['Title']\n",
        "text2=new_data['Question']\n",
        "text3=new_data['Answer']"
      ],
      "execution_count": null,
      "outputs": []
    },
    {
      "cell_type": "code",
      "metadata": {
        "id": "Fn0MVBqX5TNR"
      },
      "source": [
        "vectorizer_train = TfidfVectorizer(analyzer = 'word',\n",
        "                                       min_df=0.0,\n",
        "                                       max_df = 1.0,\n",
        "                                       strip_accents = None,\n",
        "                                       encoding = 'utf-8', \n",
        "                                       preprocessor=None,\n",
        "                                       token_pattern=r\"(?u)\\S\\S+\",\n",
        "                                       max_features=1000)"
      ],
      "execution_count": null,
      "outputs": []
    },
    {
      "cell_type": "markdown",
      "metadata": {
        "id": "zu77lgEO-L6X"
      },
      "source": [
        "Data preparation\n"
      ]
    },
    {
      "cell_type": "code",
      "metadata": {
        "id": "HSSErzr96-Wo"
      },
      "source": [
        "x1= new_data['Title']\n",
        "x2= new_data['Question']\n",
        "x3 = new_data['Answer']"
      ],
      "execution_count": null,
      "outputs": []
    },
    {
      "cell_type": "code",
      "source": [
        "new_data['Title']"
      ],
      "metadata": {
        "colab": {
          "base_uri": "https://localhost:8080/"
        },
        "id": "YqYm5W_YGslj",
        "outputId": "ebe5e683-ed68-4ce5-abc7-89d9a02624c2"
      },
      "execution_count": null,
      "outputs": [
        {
          "output_type": "execute_result",
          "data": {
            "text/plain": [
              "0                             increment letter like number\n",
              "1        get heightwidth image javascript ideally witho...\n",
              "45                        c# increase heap size - possible\n",
              "56                use jquery prevent space key enter space\n",
              "57                use jquery prevent space key enter space\n",
              "                               ...                        \n",
              "19433                               set default value rail\n",
              "19462      java program get current date without timestamp\n",
              "19463      java program get current date without timestamp\n",
              "19466         want use javascript insert attribute element\n",
              "19467         want use javascript insert attribute element\n",
              "Name: Title, Length: 2663, dtype: object"
            ]
          },
          "metadata": {},
          "execution_count": 61
        }
      ]
    },
    {
      "cell_type": "code",
      "source": [
        "y=new_data['Tag']"
      ],
      "metadata": {
        "id": "zy6LvLdsyKLL"
      },
      "execution_count": null,
      "outputs": []
    },
    {
      "cell_type": "code",
      "source": [
        "y"
      ],
      "metadata": {
        "colab": {
          "base_uri": "https://localhost:8080/"
        },
        "id": "RGXzPN2HGkkR",
        "outputId": "d359a8dc-0263-4290-8fa2-5e043a868896"
      },
      "execution_count": null,
      "outputs": [
        {
          "output_type": "execute_result",
          "data": {
            "text/plain": [
              "0                         [ ' php ' ]\n",
              "1                  [ ' javascript ' ]\n",
              "45                         [ ' c# ' ]\n",
              "56        [ ' javascript , jquery ' ]\n",
              "57        [ ' javascript , jquery ' ]\n",
              "                     ...             \n",
              "19433    [ ' ruby-on-rails , ruby ' ]\n",
              "19462                    [ ' java ' ]\n",
              "19463                    [ ' java ' ]\n",
              "19466       [ ' javascript , html ' ]\n",
              "19467       [ ' javascript , html ' ]\n",
              "Name: Tag, Length: 2663, dtype: object"
            ]
          },
          "metadata": {},
          "execution_count": 63
        }
      ]
    },
    {
      "cell_type": "code",
      "source": [
        "multilabel_binarizer = MultiLabelBinarizer()\n",
        "y_bin = multilabel_binarizer.fit_transform(y)"
      ],
      "metadata": {
        "id": "wZikJajzunZ-"
      },
      "execution_count": null,
      "outputs": []
    },
    {
      "cell_type": "code",
      "source": [
        "vectorizer_X1 = TfidfVectorizer(analyzer = 'word',\n",
        "                                       min_df=0.0,\n",
        "                                       max_df = 1.0,strip_accents = None,encoding = 'utf-8', \n",
        "                                       preprocessor=None,token_pattern=r\"(?u)\\S\\S+\",\n",
        "                                       max_features=1000)\n",
        "\n",
        "vectorizer_X2 = TfidfVectorizer(analyzer = 'word',\n",
        "                                       min_df=0.0,\n",
        "                                       max_df = 1.0,strip_accents = None,encoding = 'utf-8', \n",
        "                                       preprocessor=None,token_pattern=r\"(?u)\\S\\S+\",\n",
        "                                       max_features=1000)\n",
        "\n",
        "vectorizer_X3 = TfidfVectorizer(analyzer = 'word',\n",
        "                                       min_df=0.0,\n",
        "                                       max_df = 1.0,strip_accents = None,encoding = 'utf-8', \n",
        "                                       preprocessor=None,token_pattern=r\"(?u)\\S\\S+\",\n",
        "                                       max_features=1000)\n"
      ],
      "metadata": {
        "id": "nGQLwLIeyPib"
      },
      "execution_count": null,
      "outputs": []
    },
    {
      "cell_type": "code",
      "source": [
        "X1_tfidf = vectorizer_X1.fit_transform(x1)\n",
        "X2_tfidf = vectorizer_X2.fit_transform(x2)\n",
        "X3_tfidf = vectorizer_X3.fit_transform(x3)"
      ],
      "metadata": {
        "id": "A8In64kTy0vr"
      },
      "execution_count": null,
      "outputs": []
    },
    {
      "cell_type": "code",
      "source": [
        "X_tfidf = np.hstack([X1_tfidf.A,X2_tfidf.A,X3_tfidf.A])"
      ],
      "metadata": {
        "id": "dpd4kH53Vxa1"
      },
      "execution_count": null,
      "outputs": []
    },
    {
      "cell_type": "code",
      "source": [
        "#X_tfidf = np.vstack([[X1_tfidf.A],[X2_tfidf.A],[X3_tfidf.A]])"
      ],
      "metadata": {
        "id": "fBjGa3Osy_c4"
      },
      "execution_count": null,
      "outputs": []
    },
    {
      "cell_type": "code",
      "source": [
        "X_tfidf.shape"
      ],
      "metadata": {
        "colab": {
          "base_uri": "https://localhost:8080/"
        },
        "id": "IOCrDQMEzEx-",
        "outputId": "04779729-4152-4832-99c2-47d85d49d4a3"
      },
      "execution_count": null,
      "outputs": [
        {
          "output_type": "execute_result",
          "data": {
            "text/plain": [
              "(2663, 3000)"
            ]
          },
          "metadata": {},
          "execution_count": 69
        }
      ]
    },
    {
      "cell_type": "code",
      "source": [
        "y_bin.shape"
      ],
      "metadata": {
        "colab": {
          "base_uri": "https://localhost:8080/"
        },
        "id": "uF4qzIWSVECE",
        "outputId": "0d422e3c-9cd1-4b9d-c894-75562760013a"
      },
      "execution_count": null,
      "outputs": [
        {
          "output_type": "execute_result",
          "data": {
            "text/plain": [
              "(2663, 40)"
            ]
          },
          "metadata": {},
          "execution_count": 70
        }
      ]
    },
    {
      "cell_type": "code",
      "source": [
        "multilabel_binarizer.classes_"
      ],
      "metadata": {
        "colab": {
          "base_uri": "https://localhost:8080/"
        },
        "id": "A4UA12MJ_ldT",
        "outputId": "c237d663-ca1c-4aad-be45-015e581ddba5"
      },
      "execution_count": null,
      "outputs": [
        {
          "output_type": "execute_result",
          "data": {
            "text/plain": [
              "array([' ', '#', \"'\", '+', ',', '-', '.', '0', '1', '2', '3', '5', '6',\n",
              "       '[', ']', 'a', 'b', 'c', 'd', 'e', 'f', 'g', 'h', 'i', 'j', 'k',\n",
              "       'l', 'm', 'n', 'o', 'p', 'q', 'r', 's', 't', 'u', 'v', 'w', 'x',\n",
              "       'y'], dtype=object)"
            ]
          },
          "metadata": {},
          "execution_count": 72
        }
      ]
    },
    {
      "cell_type": "code",
      "source": [
        "X_train, X_test, y_train, y_test = train_test_split(X_tfidf, y_bin, test_size = 0.2, random_state = 0) "
      ],
      "metadata": {
        "id": "umtiXswz6QpM"
      },
      "execution_count": null,
      "outputs": []
    },
    {
      "cell_type": "markdown",
      "source": [
        "Models :\n"
      ],
      "metadata": {
        "id": "Ta7m-U6dXPWG"
      }
    },
    {
      "cell_type": "code",
      "source": [
        "def print_score(y_pred, clf):\n",
        "    print(\"Clf: \", clf.__class__.__name__)\n",
        "    print(\"Accuracy : {}\".format(accuracy_score(y_pred,y_test)))\n",
        "    print(\"Precision: {}\".format(precision_score(y_pred,y_test,average=\"macro\")))\n",
        "    print(\"Recall value : {}\".format(recall_score(y_pred,y_test,average=\"macro\")))\n",
        "    print(\"F1 score : {}\".format(f1_score(y_pred,y_test,average=\"macro\")))\n",
        "    print(\"Log Loss : {}\".format(log_loss(y_test,y_pred)))\n",
        "    print(\"---\")   "
      ],
      "metadata": {
        "id": "J8oqD58kpFI1"
      },
      "execution_count": null,
      "outputs": []
    },
    {
      "cell_type": "code",
      "source": [
        "lr = LogisticRegression(penalty=\"l2\",max_iter=500)\n",
        "clf = OneVsRestClassifier(lr)\n",
        "clf.fit(X_train, y_train)\n",
        "y_pred = clf.predict(X_test)\n",
        "print_score(y_pred, lr)"
      ],
      "metadata": {
        "colab": {
          "base_uri": "https://localhost:8080/"
        },
        "id": "FlmsO_ocYh4W",
        "outputId": "8d81cc6c-7927-4222-e9d8-27390c533a0e"
      },
      "execution_count": null,
      "outputs": [
        {
          "output_type": "stream",
          "name": "stdout",
          "text": [
            "Clf:  LogisticRegression\n",
            "Accuracy : 0.3771106941838649\n",
            "Precision: 0.5475488680222746\n",
            "Recall value : 0.8422108518027953\n",
            "F1 score : 0.6438237427368791\n",
            "Log Loss : 115.13524328549178\n",
            "---\n"
          ]
        }
      ]
    },
    {
      "cell_type": "code",
      "source": [
        "sgd = SGDClassifier(penalty=\"l2\",max_iter=500,alpha=0.0001)\n",
        "clf = OneVsRestClassifier(sgd)\n",
        "clf.fit(X_train, y_train)\n",
        "y_pred = clf.predict(X_test)\n",
        "print(\"Regularization parameter: {}, Maximum iterations: {}\".format(0.001,500))\n",
        "print(\"------------------------------>\")\n",
        "print_score(y_pred, sgd)"
      ],
      "metadata": {
        "colab": {
          "base_uri": "https://localhost:8080/"
        },
        "id": "D3dy4JyzXQWx",
        "outputId": "d61d67fe-51d9-4b32-d700-cda5c7083ddd"
      },
      "execution_count": null,
      "outputs": [
        {
          "output_type": "stream",
          "name": "stdout",
          "text": [
            "Regularization parameter: 0.001, Maximum iterations: 500\n",
            "------------------------------>\n",
            "Clf:  SGDClassifier\n",
            "Accuracy : 0.5572232645403377\n",
            "Precision: 0.8426260895661803\n",
            "Recall value : 0.9860207786609066\n",
            "F1 score : 0.9046388266190821\n",
            "Log Loss : 76.7700883310421\n",
            "---\n"
          ]
        }
      ]
    },
    {
      "cell_type": "code",
      "source": [
        "sgd = SGDClassifier(penalty=\"l2\",max_iter=550,alpha=0.01)\n",
        "clf = OneVsRestClassifier(sgd)\n",
        "clf.fit(X_train, y_train)\n",
        "y_pred = clf.predict(X_test)\n",
        "print_score(y_pred, sgd)"
      ],
      "metadata": {
        "colab": {
          "base_uri": "https://localhost:8080/"
        },
        "id": "GSzt3zbf1c9M",
        "outputId": "c8ab5508-8281-4e32-e3d3-33c3f0f8bb8d"
      },
      "execution_count": null,
      "outputs": [
        {
          "output_type": "stream",
          "name": "stdout",
          "text": [
            "Clf:  SGDClassifier\n",
            "Accuracy : 0.13133208255159476\n",
            "Precision: 0.22966997051417043\n",
            "Recall value : 0.7247685185185185\n",
            "F1 score : 0.30191154817399757\n",
            "Log Loss : 228.4845635949675\n",
            "---\n"
          ]
        }
      ]
    },
    {
      "cell_type": "markdown",
      "source": [
        "Random Forest\n"
      ],
      "metadata": {
        "id": "xtc40tu3ZDYY"
      }
    },
    {
      "cell_type": "code",
      "source": [
        "rfc = RandomForestClassifier()\n",
        "rfc.fit(X_train, y_train)\n",
        "\n",
        "y_pred = rfc.predict(X_test)\n",
        "print(\"Cross validation score:\",cross_val_score(rfc, X_train, y_train, cv=5).mean())\n",
        "print_score(y_pred, rfc)"
      ],
      "metadata": {
        "colab": {
          "base_uri": "https://localhost:8080/"
        },
        "id": "cFwBcv2tZEUl",
        "outputId": "5e4e1af1-5d2e-4f90-f2a8-a7fbc224dabe"
      },
      "execution_count": null,
      "outputs": [
        {
          "output_type": "stream",
          "name": "stdout",
          "text": [
            "Cross validation score: 0.616431924882629\n",
            "Clf:  RandomForestClassifier\n",
            "Accuracy : 0.6472795497185742\n",
            "Precision: 0.792652834074129\n",
            "Recall value : 0.9895068093028607\n",
            "F1 score : 0.8685730291231242\n",
            "Log Loss : 78.55581970874812\n",
            "---\n"
          ]
        }
      ]
    },
    {
      "cell_type": "code",
      "source": [
        "clf = DecisionTreeClassifier()\n",
        "clf.fit(X_train, y_train)\n",
        "\n",
        "y_pred = clf.predict(X_test)\n",
        "print(\"Cross validation score:\",cross_val_score(clf, X_train, y_train, cv=3).mean())\n",
        "print_score(y_pred, clf)"
      ],
      "metadata": {
        "colab": {
          "base_uri": "https://localhost:8080/"
        },
        "id": "3R2Fw4zahbHI",
        "outputId": "1c2d1515-bd13-4298-bdf8-af0f16aea3f5"
      },
      "execution_count": null,
      "outputs": [
        {
          "output_type": "stream",
          "name": "stdout",
          "text": [
            "Cross validation score: 0.688732394366197\n",
            "Clf:  DecisionTreeClassifier\n",
            "Accuracy : 0.7298311444652908\n",
            "Precision: 0.8846188079012167\n",
            "Recall value : 0.8988914194385369\n",
            "F1 score : 0.8905155471849436\n",
            "Log Loss : 64.50779254562718\n",
            "---\n"
          ]
        }
      ]
    },
    {
      "cell_type": "code",
      "source": [
        "regressor = DecisionTreeRegressor(random_state=0)\n",
        "regressor.fit(X_train, y_train)\n",
        "\n",
        "y_pred = regressor.predict(X_test)\n",
        "print(\"Cross validation score:\",cross_val_score(regressor, X_train, y_train, cv=3).mean())\n",
        "print_score(y_pred, regressor)"
      ],
      "metadata": {
        "colab": {
          "base_uri": "https://localhost:8080/"
        },
        "id": "nv130taWiLIj",
        "outputId": "667d2377-8209-496c-b66e-8583bc882c4f"
      },
      "execution_count": null,
      "outputs": [
        {
          "output_type": "stream",
          "name": "stdout",
          "text": [
            "Cross validation score: 0.544135203937566\n",
            "Clf:  DecisionTreeRegressor\n",
            "Accuracy : 0.7392120075046904\n",
            "Precision: 0.8791204421689353\n",
            "Recall value : 0.920005856853938\n",
            "F1 score : 0.8968388998280427\n",
            "Log Loss : 63.34241335841167\n",
            "---\n"
          ]
        }
      ]
    },
    {
      "cell_type": "code",
      "source": [
        "param_grid = {\n",
        "    \"max_iter\":[100,200,300],\n",
        "    \"alpha\": [0.001,0.01,0.1],\n",
        "    \"n_estimators\" : [300,400],\n",
        "    \"min_samples_split\" : [2,3,4],\n",
        "    \"max_features\" : [2000,3000]\n",
        "}"
      ],
      "metadata": {
        "id": "qBhIAxZbZonq"
      },
      "execution_count": null,
      "outputs": []
    },
    {
      "cell_type": "markdown",
      "source": [
        "Logistic Regression:"
      ],
      "metadata": {
        "id": "_KcOxibYlDF2"
      }
    },
    {
      "cell_type": "code",
      "source": [
        "for max_iter in [10,20,50,80,100]:\n",
        "      lr = LogisticRegression(penalty='l2',max_iter=max_iter,n_jobs=-1)\n",
        "      clf = OneVsRestClassifier(lr)\n",
        "      clf.fit(X_train, y_train)\n",
        "      y_pred = clf.predict(X_test)\n",
        "      print(\"Maximum iterations: {}\".format(max_iter))\n",
        "      print(\"------------------------------>\")\n",
        "      print_score(y_pred, lr)"
      ],
      "metadata": {
        "id": "IcO5rC7rbNQb"
      },
      "execution_count": null,
      "outputs": []
    },
    {
      "cell_type": "code",
      "source": [
        "for max_iter in param_grid['max_iter']:\n",
        "  for alpha in param_grid['alpha']:\n",
        "    sgd = SGDClassifier(penalty=\"l2\",max_iter=max_iter,alpha=alpha)\n",
        "    clf = OneVsRestClassifier(sgd)\n",
        "    clf.fit(X_train, y_train)\n",
        "    y_pred = clf.predict(X_test)\n",
        "    print(\"Regularization parameter: {}, Maximum iterations: {}\".format(alpha,max_iter))\n",
        "    print(\"------------------------------>\")\n",
        "    print_score(y_pred, sgd)"
      ],
      "metadata": {
        "id": "4PN3lncsm0Bf"
      },
      "execution_count": null,
      "outputs": []
    },
    {
      "cell_type": "code",
      "source": [
        "for numF in param_grid['max_features']:\n",
        "  for minSampSplit in param_grid['min_samples_split']:\n",
        "    clf = DecisionTreeClassifier()\n",
        "    clf.fit(X_train, y_train)\n",
        "    y_pred = clf.predict(X_test)\n",
        "    print(\"Max features considered: {}, Minimum Samples threshold for split: {}\".format(numF,minSampSplit))\n",
        "    print(\"------------------------------>\")\n",
        "    # print(\"Cross validation score:\",cross_val_score(clf, X_train, y_train, cv=5).mean())\n",
        "    print_score(y_pred, clf)"
      ],
      "metadata": {
        "id": "b8uZalgfBED0"
      },
      "execution_count": null,
      "outputs": []
    },
    {
      "cell_type": "code",
      "source": [
        "for noEst in param_grid[\"n_estimators\"]:\n",
        "  for noMaxFeat in param_grid[\"max_features\"]:\n",
        "    for minSampSplit in param_grid['min_samples_split']:\n",
        "      rfc = RandomForestClassifier(n_estimators=noEst,max_features=noMaxFeat,min_samples_split=minSampSplit)\n",
        "      rfc.fit(X_train, y_train)\n",
        "      y_pred = rfc.predict(X_test)\n",
        "      print(\"No. of estimators: {}, Maximum features: {}, Minimum Samples threshold for split: {}\".format(noEst,noMaxFeat,minSampSplit))\n",
        "      print(\"------------------------------>\")\n",
        "      print_score(y_pred, rfc)\n",
        "      # print(\"Cross validation score:\",cross_val_score(rfc, X_train, y_train, cv=3).mean())"
      ],
      "metadata": {
        "colab": {
          "base_uri": "https://localhost:8080/"
        },
        "id": "4r6834DLPCb5",
        "outputId": "03c6455f-dc4e-4e68-df3a-b8e38bdd3f37"
      },
      "execution_count": null,
      "outputs": [
        {
          "metadata": {
            "tags": null
          },
          "name": "stdout",
          "output_type": "stream",
          "text": [
            "No. of estimators: 300, Maximum features: 2000, Minimum Samples threshold for split: 2\n",
            "------------------------------>\n",
            "Clf:  RandomForestClassifier\n",
            "Accuracy : 0.7298311444652908\n",
            "Precision: 0.8605187771052872\n",
            "Recall value : 0.9772766639874216\n",
            "F1 score : 0.9116890547937224\n",
            "Log Loss : 67.30284189257664\n",
            "---\n",
            "No. of estimators: 300, Maximum features: 2000, Minimum Samples threshold for split: 3\n",
            "------------------------------>\n",
            "Clf:  RandomForestClassifier\n",
            "Accuracy : 0.7279549718574109\n",
            "Precision: 0.8576671600690734\n",
            "Recall value : 0.9779773439966473\n",
            "F1 score : 0.9101400965007846\n",
            "Log Loss : 68.18981831255483\n",
            "---\n",
            "No. of estimators: 300, Maximum features: 2000, Minimum Samples threshold for split: 4\n",
            "------------------------------>\n",
            "Clf:  RandomForestClassifier\n",
            "Accuracy : 0.7166979362101313\n",
            "Precision: 0.8503119244816627\n",
            "Recall value : 0.9781939499589297\n",
            "F1 score : 0.9058500213815623\n",
            "Log Loss : 70.29424284932522\n",
            "---\n",
            "No. of estimators: 300, Maximum features: 3000, Minimum Samples threshold for split: 2\n",
            "------------------------------>\n",
            "Clf:  RandomForestClassifier\n",
            "Accuracy : 0.7279549718574109\n",
            "Precision: 0.8569714894964277\n",
            "Recall value : 0.9757413608067089\n",
            "F1 score : 0.9091349148381017\n",
            "Log Loss : 68.69540014743386\n",
            "---\n",
            "No. of estimators: 300, Maximum features: 3000, Minimum Samples threshold for split: 3\n",
            "------------------------------>\n",
            "Clf:  RandomForestClassifier\n",
            "Accuracy : 0.7204502814258912\n",
            "Precision: 0.853887403770821\n",
            "Recall value : 0.9759213005833083\n",
            "F1 score : 0.9070025909676535\n",
            "Log Loss : 68.89004620551647\n",
            "---\n",
            "No. of estimators: 300, Maximum features: 3000, Minimum Samples threshold for split: 4\n",
            "------------------------------>\n",
            "Clf:  RandomForestClassifier\n",
            "Accuracy : 0.7148217636022514\n",
            "Precision: 0.8494395146809854\n",
            "Recall value : 0.9752183132172684\n",
            "F1 score : 0.9041150824093755\n",
            "Log Loss : 69.95667838749316\n",
            "---\n",
            "No. of estimators: 400, Maximum features: 2000, Minimum Samples threshold for split: 2\n",
            "------------------------------>\n",
            "Clf:  RandomForestClassifier\n",
            "Accuracy : 0.7298311444652908\n",
            "Precision: 0.856672749825999\n",
            "Recall value : 0.9770428337013026\n",
            "F1 score : 0.9093834570008139\n",
            "Log Loss : 68.62499708069072\n",
            "---\n",
            "No. of estimators: 400, Maximum features: 2000, Minimum Samples threshold for split: 3\n",
            "------------------------------>\n",
            "Clf:  RandomForestClassifier\n",
            "Accuracy : 0.726078799249531\n",
            "Precision: 0.852822141055707\n",
            "Recall value : 0.9773956564589357\n",
            "F1 score : 0.9068893042866112\n",
            "Log Loss : 68.43266389395266\n",
            "---\n",
            "No. of estimators: 400, Maximum features: 2000, Minimum Samples threshold for split: 4\n",
            "------------------------------>\n",
            "Clf:  RandomForestClassifier\n",
            "Accuracy : 0.7110694183864915\n",
            "Precision: 0.8501217744999916\n",
            "Recall value : 0.9775836541261789\n",
            "F1 score : 0.9056520168938332\n",
            "Log Loss : 70.2904794361214\n",
            "---\n"
          ]
        }
      ]
    }
  ]
}